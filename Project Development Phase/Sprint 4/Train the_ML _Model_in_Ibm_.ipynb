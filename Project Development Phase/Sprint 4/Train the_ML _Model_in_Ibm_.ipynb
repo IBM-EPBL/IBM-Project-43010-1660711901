{
  "nbformat": 4,
  "nbformat_minor": 0,
  "metadata": {
    "colab": {
      "provenance": []
    },
    "kernelspec": {
      "name": "python3",
      "display_name": "Python 3"
    },
    "language_info": {
      "name": "python"
    }
  },
  "cells": [
    {
      "cell_type": "code",
      "execution_count": 2,
      "metadata": {
        "id": "GTBmwGZiO5ud"
      },
      "outputs": [],
      "source": [
        "import pandas as pd\n",
        "import numpy as np\n",
        "import matplotlib.pyplot as plt"
      ]
    },
    {
      "cell_type": "code",
      "source": [
        "Data=pd.read_excel(\"/content/Crude Oil Prices Daily.xlsx\")\n",
        "Data"
      ],
      "metadata": {
        "colab": {
          "base_uri": "https://localhost:8080/",
          "height": 423
        },
        "id": "sydq73CjRFRf",
        "outputId": "8cd2a130-981b-4e6a-b52d-b27e7b2696e3"
      },
      "execution_count": 3,
      "outputs": [
        {
          "output_type": "execute_result",
          "data": {
            "text/plain": [
              "           Date  Closing Value\n",
              "0    1986-01-02          25.56\n",
              "1    1986-01-03          26.00\n",
              "2    1986-01-06          26.53\n",
              "3    1986-01-07          25.85\n",
              "4    1986-01-08          25.87\n",
              "...         ...            ...\n",
              "8218 2018-07-03          74.19\n",
              "8219 2018-07-04            NaN\n",
              "8220 2018-07-05          73.05\n",
              "8221 2018-07-06          73.78\n",
              "8222 2018-07-09          73.93\n",
              "\n",
              "[8223 rows x 2 columns]"
            ],
            "text/html": [
              "\n",
              "  <div id=\"df-94773316-0e1a-48ec-853b-8d75a9f686c2\">\n",
              "    <div class=\"colab-df-container\">\n",
              "      <div>\n",
              "<style scoped>\n",
              "    .dataframe tbody tr th:only-of-type {\n",
              "        vertical-align: middle;\n",
              "    }\n",
              "\n",
              "    .dataframe tbody tr th {\n",
              "        vertical-align: top;\n",
              "    }\n",
              "\n",
              "    .dataframe thead th {\n",
              "        text-align: right;\n",
              "    }\n",
              "</style>\n",
              "<table border=\"1\" class=\"dataframe\">\n",
              "  <thead>\n",
              "    <tr style=\"text-align: right;\">\n",
              "      <th></th>\n",
              "      <th>Date</th>\n",
              "      <th>Closing Value</th>\n",
              "    </tr>\n",
              "  </thead>\n",
              "  <tbody>\n",
              "    <tr>\n",
              "      <th>0</th>\n",
              "      <td>1986-01-02</td>\n",
              "      <td>25.56</td>\n",
              "    </tr>\n",
              "    <tr>\n",
              "      <th>1</th>\n",
              "      <td>1986-01-03</td>\n",
              "      <td>26.00</td>\n",
              "    </tr>\n",
              "    <tr>\n",
              "      <th>2</th>\n",
              "      <td>1986-01-06</td>\n",
              "      <td>26.53</td>\n",
              "    </tr>\n",
              "    <tr>\n",
              "      <th>3</th>\n",
              "      <td>1986-01-07</td>\n",
              "      <td>25.85</td>\n",
              "    </tr>\n",
              "    <tr>\n",
              "      <th>4</th>\n",
              "      <td>1986-01-08</td>\n",
              "      <td>25.87</td>\n",
              "    </tr>\n",
              "    <tr>\n",
              "      <th>...</th>\n",
              "      <td>...</td>\n",
              "      <td>...</td>\n",
              "    </tr>\n",
              "    <tr>\n",
              "      <th>8218</th>\n",
              "      <td>2018-07-03</td>\n",
              "      <td>74.19</td>\n",
              "    </tr>\n",
              "    <tr>\n",
              "      <th>8219</th>\n",
              "      <td>2018-07-04</td>\n",
              "      <td>NaN</td>\n",
              "    </tr>\n",
              "    <tr>\n",
              "      <th>8220</th>\n",
              "      <td>2018-07-05</td>\n",
              "      <td>73.05</td>\n",
              "    </tr>\n",
              "    <tr>\n",
              "      <th>8221</th>\n",
              "      <td>2018-07-06</td>\n",
              "      <td>73.78</td>\n",
              "    </tr>\n",
              "    <tr>\n",
              "      <th>8222</th>\n",
              "      <td>2018-07-09</td>\n",
              "      <td>73.93</td>\n",
              "    </tr>\n",
              "  </tbody>\n",
              "</table>\n",
              "<p>8223 rows × 2 columns</p>\n",
              "</div>\n",
              "      <button class=\"colab-df-convert\" onclick=\"convertToInteractive('df-94773316-0e1a-48ec-853b-8d75a9f686c2')\"\n",
              "              title=\"Convert this dataframe to an interactive table.\"\n",
              "              style=\"display:none;\">\n",
              "        \n",
              "  <svg xmlns=\"http://www.w3.org/2000/svg\" height=\"24px\"viewBox=\"0 0 24 24\"\n",
              "       width=\"24px\">\n",
              "    <path d=\"M0 0h24v24H0V0z\" fill=\"none\"/>\n",
              "    <path d=\"M18.56 5.44l.94 2.06.94-2.06 2.06-.94-2.06-.94-.94-2.06-.94 2.06-2.06.94zm-11 1L8.5 8.5l.94-2.06 2.06-.94-2.06-.94L8.5 2.5l-.94 2.06-2.06.94zm10 10l.94 2.06.94-2.06 2.06-.94-2.06-.94-.94-2.06-.94 2.06-2.06.94z\"/><path d=\"M17.41 7.96l-1.37-1.37c-.4-.4-.92-.59-1.43-.59-.52 0-1.04.2-1.43.59L10.3 9.45l-7.72 7.72c-.78.78-.78 2.05 0 2.83L4 21.41c.39.39.9.59 1.41.59.51 0 1.02-.2 1.41-.59l7.78-7.78 2.81-2.81c.8-.78.8-2.07 0-2.86zM5.41 20L4 18.59l7.72-7.72 1.47 1.35L5.41 20z\"/>\n",
              "  </svg>\n",
              "      </button>\n",
              "      \n",
              "  <style>\n",
              "    .colab-df-container {\n",
              "      display:flex;\n",
              "      flex-wrap:wrap;\n",
              "      gap: 12px;\n",
              "    }\n",
              "\n",
              "    .colab-df-convert {\n",
              "      background-color: #E8F0FE;\n",
              "      border: none;\n",
              "      border-radius: 50%;\n",
              "      cursor: pointer;\n",
              "      display: none;\n",
              "      fill: #1967D2;\n",
              "      height: 32px;\n",
              "      padding: 0 0 0 0;\n",
              "      width: 32px;\n",
              "    }\n",
              "\n",
              "    .colab-df-convert:hover {\n",
              "      background-color: #E2EBFA;\n",
              "      box-shadow: 0px 1px 2px rgba(60, 64, 67, 0.3), 0px 1px 3px 1px rgba(60, 64, 67, 0.15);\n",
              "      fill: #174EA6;\n",
              "    }\n",
              "\n",
              "    [theme=dark] .colab-df-convert {\n",
              "      background-color: #3B4455;\n",
              "      fill: #D2E3FC;\n",
              "    }\n",
              "\n",
              "    [theme=dark] .colab-df-convert:hover {\n",
              "      background-color: #434B5C;\n",
              "      box-shadow: 0px 1px 3px 1px rgba(0, 0, 0, 0.15);\n",
              "      filter: drop-shadow(0px 1px 2px rgba(0, 0, 0, 0.3));\n",
              "      fill: #FFFFFF;\n",
              "    }\n",
              "  </style>\n",
              "\n",
              "      <script>\n",
              "        const buttonEl =\n",
              "          document.querySelector('#df-94773316-0e1a-48ec-853b-8d75a9f686c2 button.colab-df-convert');\n",
              "        buttonEl.style.display =\n",
              "          google.colab.kernel.accessAllowed ? 'block' : 'none';\n",
              "\n",
              "        async function convertToInteractive(key) {\n",
              "          const element = document.querySelector('#df-94773316-0e1a-48ec-853b-8d75a9f686c2');\n",
              "          const dataTable =\n",
              "            await google.colab.kernel.invokeFunction('convertToInteractive',\n",
              "                                                     [key], {});\n",
              "          if (!dataTable) return;\n",
              "\n",
              "          const docLinkHtml = 'Like what you see? Visit the ' +\n",
              "            '<a target=\"_blank\" href=https://colab.research.google.com/notebooks/data_table.ipynb>data table notebook</a>'\n",
              "            + ' to learn more about interactive tables.';\n",
              "          element.innerHTML = '';\n",
              "          dataTable['output_type'] = 'display_data';\n",
              "          await google.colab.output.renderOutput(dataTable, element);\n",
              "          const docLink = document.createElement('div');\n",
              "          docLink.innerHTML = docLinkHtml;\n",
              "          element.appendChild(docLink);\n",
              "        }\n",
              "      </script>\n",
              "    </div>\n",
              "  </div>\n",
              "  "
            ]
          },
          "metadata": {},
          "execution_count": 3
        }
      ]
    },
    {
      "cell_type": "code",
      "source": [
        "Data.isnull().any()"
      ],
      "metadata": {
        "colab": {
          "base_uri": "https://localhost:8080/"
        },
        "id": "v5cCtC5jTyKl",
        "outputId": "156af6f2-9399-4e54-cedc-2189ce4bee2d"
      },
      "execution_count": 4,
      "outputs": [
        {
          "output_type": "execute_result",
          "data": {
            "text/plain": [
              "Date             False\n",
              "Closing Value     True\n",
              "dtype: bool"
            ]
          },
          "metadata": {},
          "execution_count": 4
        }
      ]
    },
    {
      "cell_type": "code",
      "source": [
        "Data.isnull().sum()"
      ],
      "metadata": {
        "colab": {
          "base_uri": "https://localhost:8080/"
        },
        "id": "d51Zlo6cUBl9",
        "outputId": "ad9bd20b-ca8b-4fe0-a3c9-b9e8a74011f6"
      },
      "execution_count": 5,
      "outputs": [
        {
          "output_type": "execute_result",
          "data": {
            "text/plain": [
              "Date             0\n",
              "Closing Value    7\n",
              "dtype: int64"
            ]
          },
          "metadata": {},
          "execution_count": 5
        }
      ]
    },
    {
      "cell_type": "code",
      "source": [
        "Data.dropna(axis=0,inplace=True)\n",
        "Data.isnull().sum()"
      ],
      "metadata": {
        "colab": {
          "base_uri": "https://localhost:8080/"
        },
        "id": "QgXdh4CnUNB9",
        "outputId": "92b37549-b156-4da2-c9a5-5d9fe18fec32"
      },
      "execution_count": 6,
      "outputs": [
        {
          "output_type": "execute_result",
          "data": {
            "text/plain": [
              "Date             0\n",
              "Closing Value    0\n",
              "dtype: int64"
            ]
          },
          "metadata": {},
          "execution_count": 6
        }
      ]
    },
    {
      "cell_type": "code",
      "source": [
        "Data_oil=Data.reset_index()['Closing Value']"
      ],
      "metadata": {
        "id": "0q6F-FORUr0p"
      },
      "execution_count": 7,
      "outputs": []
    },
    {
      "cell_type": "code",
      "source": [
        "Data_oil"
      ],
      "metadata": {
        "colab": {
          "base_uri": "https://localhost:8080/"
        },
        "id": "a2Tq9SViU6vd",
        "outputId": "f45a1931-d174-42db-e905-dd036a679ac2"
      },
      "execution_count": 8,
      "outputs": [
        {
          "output_type": "execute_result",
          "data": {
            "text/plain": [
              "0       25.56\n",
              "1       26.00\n",
              "2       26.53\n",
              "3       25.85\n",
              "4       25.87\n",
              "        ...  \n",
              "8211    73.89\n",
              "8212    74.19\n",
              "8213    73.05\n",
              "8214    73.78\n",
              "8215    73.93\n",
              "Name: Closing Value, Length: 8216, dtype: float64"
            ]
          },
          "metadata": {},
          "execution_count": 8
        }
      ]
    },
    {
      "cell_type": "code",
      "source": [
        "from sklearn.preprocessing import MinMaxScaler\n",
        "scaler= MinMaxScaler(feature_range=(0,1))\n",
        "Data_oil=scaler.fit_transform(np.array(Data_oil).reshape(-1,1))"
      ],
      "metadata": {
        "id": "8jtp24GvU8xW"
      },
      "execution_count": 9,
      "outputs": []
    },
    {
      "cell_type": "code",
      "source": [
        "plt.plot(Data_oil)"
      ],
      "metadata": {
        "colab": {
          "base_uri": "https://localhost:8080/",
          "height": 283
        },
        "id": "CoDWjcOJXApE",
        "outputId": "f77b20bd-c724-4831-f51c-d265b6a9b323"
      },
      "execution_count": 10,
      "outputs": [
        {
          "output_type": "execute_result",
          "data": {
            "text/plain": [
              "[<matplotlib.lines.Line2D at 0x7f619b5e1790>]"
            ]
          },
          "metadata": {},
          "execution_count": 10
        },
        {
          "output_type": "display_data",
          "data": {
            "text/plain": [
              "<Figure size 432x288 with 1 Axes>"
            ],
            "image/png": "[encoded data removed]"
          },
          "metadata": {
            "needs_background": "light"
          }
        }
      ]
    },
    {
      "cell_type": "code",
      "source": [
        "training_size=int(len(Data_oil)*0.65)\n",
        "test_size=len(Data_oil)-training_size\n",
        "train_data,test_Data=Data_oil[0:training_size,:],Data_oil[training_size:len(Data_oil),:1]"
      ],
      "metadata": {
        "id": "m4N0F4VsXZ1O"
      },
      "execution_count": 12,
      "outputs": []
    },
    {
      "cell_type": "code",
      "source": [
        "training_size,test_size"
      ],
      "metadata": {
        "colab": {
          "base_uri": "https://localhost:8080/"
        },
        "id": "Fs0NSkOdYZP9",
        "outputId": "18f60b6d-3f10-4e6f-dde2-7e527686ab65"
      },
      "execution_count": 13,
      "outputs": [
        {
          "output_type": "execute_result",
          "data": {
            "text/plain": [
              "(5340, 2876)"
            ]
          },
          "metadata": {},
          "execution_count": 13
        }
      ]
    },
    {
      "cell_type": "code",
      "source": [
        "train_data.shape"
      ],
      "metadata": {
        "colab": {
          "base_uri": "https://localhost:8080/"
        },
        "id": "ZjPqQf7EYefN",
        "outputId": "ed546cc9-9001-425f-a369-0d9c68f3469d"
      },
      "execution_count": 14,
      "outputs": [
        {
          "output_type": "execute_result",
          "data": {
            "text/plain": [
              "(5340, 1)"
            ]
          },
          "metadata": {},
          "execution_count": 14
        }
      ]
    },
    {
      "cell_type": "code",
      "source": [
        "def create_dataset(dataset, time_step=1):\n",
        "  dataX, dataY = [],[]\n",
        "  for i in range(len(dataset)-time_step-1):\n",
        "    a = dataset[i:(i+time_step),0]\n",
        "    dataX.append(a)\n",
        "    dataY.append(dataset[i + time_step, 0])\n",
        "  return np.array(dataX),np.array(dataY)  "
      ],
      "metadata": {
        "id": "qJTQbLuKZImu"
      },
      "execution_count": 15,
      "outputs": []
    },
    {
      "cell_type": "code",
      "source": [
        "time_step = 10\n",
        "X_train, y_train = create_dataset(train_data, time_step)\n",
        "X_test, ytest = create_dataset(test_Data, time_step)"
      ],
      "metadata": {
        "id": "peTrN2QVcHYU"
      },
      "execution_count": 16,
      "outputs": []
    },
    {
      "cell_type": "code",
      "source": [
        "print(X_train.shape),print(y_train.shape)\n"
      ],
      "metadata": {
        "colab": {
          "base_uri": "https://localhost:8080/"
        },
        "id": "EuUiwdKccvts",
        "outputId": "2e72cc0a-5db6-4240-c695-8797fc1b236c"
      },
      "execution_count": 17,
      "outputs": [
        {
          "output_type": "stream",
          "name": "stdout",
          "text": [
            "(5329, 10)\n",
            "(5329,)\n"
          ]
        },
        {
          "output_type": "execute_result",
          "data": {
            "text/plain": [
              "(None, None)"
            ]
          },
          "metadata": {},
          "execution_count": 17
        }
      ]
    },
    {
      "cell_type": "code",
      "source": [
        "print(X_test.shape),print(ytest.shape)"
      ],
      "metadata": {
        "colab": {
          "base_uri": "https://localhost:8080/"
        },
        "id": "Ht1p236edDCU",
        "outputId": "c42f45ae-f69e-4ceb-ace5-2a97e7c6c41b"
      },
      "execution_count": 18,
      "outputs": [
        {
          "output_type": "stream",
          "name": "stdout",
          "text": [
            "(2865, 10)\n",
            "(2865,)\n"
          ]
        },
        {
          "output_type": "execute_result",
          "data": {
            "text/plain": [
              "(None, None)"
            ]
          },
          "metadata": {},
          "execution_count": 18
        }
      ]
    },
    {
      "cell_type": "code",
      "source": [
        "X_train"
      ],
      "metadata": {
        "colab": {
          "base_uri": "https://localhost:8080/"
        },
        "id": "jOzQCu4bdtLl",
        "outputId": "455cc2ef-d8c5-4c4b-bc61-437a27838c98"
      },
      "execution_count": 19,
      "outputs": [
        {
          "output_type": "execute_result",
          "data": {
            "text/plain": [
              "array([[0.11335703, 0.11661484, 0.12053902, ..., 0.10980305, 0.1089886 ,\n",
              "        0.11054346],\n",
              "       [0.11661484, 0.12053902, 0.11550422, ..., 0.1089886 , 0.11054346,\n",
              "        0.10165852],\n",
              "       [0.12053902, 0.11550422, 0.1156523 , ..., 0.11054346, 0.10165852,\n",
              "        0.09906708],\n",
              "       ...,\n",
              "       [0.36731823, 0.35176958, 0.36080261, ..., 0.36391234, 0.37042796,\n",
              "        0.37042796],\n",
              "       [0.35176958, 0.36080261, 0.35354657, ..., 0.37042796, 0.37042796,\n",
              "        0.37879461],\n",
              "       [0.36080261, 0.35354657, 0.35295424, ..., 0.37042796, 0.37879461,\n",
              "        0.37916482]])"
            ]
          },
          "metadata": {},
          "execution_count": 19
        }
      ]
    },
    {
      "cell_type": "code",
      "source": [
        "X_train =X_train.reshape(X_train.shape[0],X_train.shape[1],1)\n",
        "X_test = X_test.reshape(X_test.shape[0],X_test.shape[1], 1)"
      ],
      "metadata": {
        "id": "seyfBBqYdxDz"
      },
      "execution_count": 20,
      "outputs": []
    },
    {
      "cell_type": "markdown",
      "source": [
        "Model building"
      ],
      "metadata": {
        "id": "ngoAgISiehdc"
      }
    },
    {
      "cell_type": "code",
      "source": [
        "import tensorflow\n",
        "import keras\n",
        "\n"
      ],
      "metadata": {
        "id": "ybWnR0r3he6K"
      },
      "execution_count": 21,
      "outputs": []
    },
    {
      "cell_type": "code",
      "source": [
        "from keras.models import Sequential\n",
        "from keras.layers import Dense\n",
        "from keras.layers import LSTM"
      ],
      "metadata": {
        "id": "Mu-CpP4Dh-rj"
      },
      "execution_count": 22,
      "outputs": []
    },
    {
      "cell_type": "code",
      "source": [
        "model=Sequential()"
      ],
      "metadata": {
        "id": "3Vz6CEbKisw8"
      },
      "execution_count": 23,
      "outputs": []
    },
    {
      "cell_type": "code",
      "source": [
        "model = Sequential()\n",
        "model.add(LSTM(50, return_sequences=True, input_shape=(10,1)))\n",
        "model.add(LSTM(50, return_sequences=True))\n",
        "model.add(LSTM(50))\n",
        "model.add(Dense(1))"
      ],
      "metadata": {
        "id": "kpFmp0YMi0X6"
      },
      "execution_count": 24,
      "outputs": []
    },
    {
      "cell_type": "code",
      "source": [
        "model.summary()"
      ],
      "metadata": {
        "colab": {
          "base_uri": "https://localhost:8080/"
        },
        "id": "6G0SN4kLlh2b",
        "outputId": "ec87da04-b11d-4a7e-b9ec-3daeeb600d93"
      },
      "execution_count": 25,
      "outputs": [
        {
          "output_type": "stream",
          "name": "stdout",
          "text": [
            "Model: \"sequential_1\"\n",
            "_________________________________________________________________\n",
            " Layer (type)                Output Shape              Param #   \n",
            "=================================================================\n",
            " lstm (LSTM)                 (None, 10, 50)            10400     \n",
            "                                                                 \n",
            " lstm_1 (LSTM)               (None, 10, 50)            20200     \n",
            "                                                                 \n",
            " lstm_2 (LSTM)               (None, 50)                20200     \n",
            "                                                                 \n",
            " dense (Dense)               (None, 1)                 51        \n",
            "                                                                 \n",
            "=================================================================\n",
            "Total params: 50,851\n",
            "Trainable params: 50,851\n",
            "Non-trainable params: 0\n",
            "_________________________________________________________________\n"
          ]
        }
      ]
    },
    {
      "cell_type": "code",
      "source": [
        "model.compile(loss='mean_squared_error',optimizer='adam')"
      ],
      "metadata": {
        "id": "J4GqEaC0mUOB"
      },
      "execution_count": 26,
      "outputs": []
    },
    {
      "cell_type": "code",
      "source": [
        "model.fit(X_train,y_train,validation_data=(X_test,ytest),epochs=50,batch_size=64,verbose=1)"
      ],
      "metadata": {
        "id": "eq1y7UblmhrD",
        "colab": {
          "base_uri": "https://localhost:8080/"
        },
        "outputId": "2d4abcd6-80f9-4721-acb7-7ba9d77aa9e4"
      },
      "execution_count": 27,
      "outputs": [
        {
          "output_type": "stream",
          "name": "stdout",
          "text": [
            "Epoch 1/50\n",
            "84/84 [==============================] - 6s 28ms/step - loss: 0.0018 - val_loss: 8.3986e-04\n",
            "Epoch 2/50\n",
            "84/84 [==============================] - 1s 15ms/step - loss: 1.2842e-04 - val_loss: 8.9464e-04\n",
            "Epoch 3/50\n",
            "84/84 [==============================] - 1s 16ms/step - loss: 1.2816e-04 - val_loss: 7.9099e-04\n",
            "Epoch 4/50\n",
            "84/84 [==============================] - 1s 15ms/step - loss: 1.2208e-04 - val_loss: 7.9829e-04\n",
            "Epoch 5/50\n",
            "84/84 [==============================] - 1s 15ms/step - loss: 1.2394e-04 - val_loss: 9.3060e-04\n",
            "Epoch 6/50\n",
            "84/84 [==============================] - 1s 16ms/step - loss: 1.2109e-04 - val_loss: 7.7402e-04\n",
            "Epoch 7/50\n",
            "84/84 [==============================] - 1s 15ms/step - loss: 1.2363e-04 - val_loss: 0.0012\n",
            "Epoch 8/50\n",
            "84/84 [==============================] - 1s 16ms/step - loss: 1.1650e-04 - val_loss: 0.0014\n",
            "Epoch 9/50\n",
            "84/84 [==============================] - 1s 16ms/step - loss: 1.2481e-04 - val_loss: 9.3140e-04\n",
            "Epoch 10/50\n",
            "84/84 [==============================] - 1s 15ms/step - loss: 1.2404e-04 - val_loss: 8.0511e-04\n",
            "Epoch 11/50\n",
            "84/84 [==============================] - 1s 16ms/step - loss: 1.2423e-04 - val_loss: 6.6988e-04\n",
            "Epoch 12/50\n",
            "84/84 [==============================] - 1s 15ms/step - loss: 1.0928e-04 - val_loss: 7.1503e-04\n",
            "Epoch 13/50\n",
            "84/84 [==============================] - 1s 15ms/step - loss: 1.1870e-04 - val_loss: 7.0253e-04\n",
            "Epoch 14/50\n",
            "84/84 [==============================] - 1s 15ms/step - loss: 1.1646e-04 - val_loss: 8.4167e-04\n",
            "Epoch 15/50\n",
            "84/84 [==============================] - 1s 15ms/step - loss: 1.0782e-04 - val_loss: 0.0012\n",
            "Epoch 16/50\n",
            "84/84 [==============================] - 2s 20ms/step - loss: 1.0821e-04 - val_loss: 6.1136e-04\n",
            "Epoch 17/50\n",
            "84/84 [==============================] - 2s 19ms/step - loss: 1.0112e-04 - val_loss: 5.5167e-04\n",
            "Epoch 18/50\n",
            "84/84 [==============================] - 2s 21ms/step - loss: 1.0299e-04 - val_loss: 5.3949e-04\n",
            "Epoch 19/50\n",
            "84/84 [==============================] - 1s 15ms/step - loss: 9.6162e-05 - val_loss: 4.9638e-04\n",
            "Epoch 20/50\n",
            "84/84 [==============================] - 1s 15ms/step - loss: 8.2453e-05 - val_loss: 6.3305e-04\n",
            "Epoch 21/50\n",
            "84/84 [==============================] - 1s 15ms/step - loss: 8.3946e-05 - val_loss: 8.0419e-04\n",
            "Epoch 22/50\n",
            "84/84 [==============================] - 1s 15ms/step - loss: 8.3392e-05 - val_loss: 4.2435e-04\n",
            "Epoch 23/50\n",
            "84/84 [==============================] - 1s 15ms/step - loss: 8.1313e-05 - val_loss: 3.8531e-04\n",
            "Epoch 24/50\n",
            "84/84 [==============================] - 1s 16ms/step - loss: 7.3407e-05 - val_loss: 3.8345e-04\n",
            "Epoch 25/50\n",
            "84/84 [==============================] - 1s 16ms/step - loss: 7.4461e-05 - val_loss: 3.3709e-04\n",
            "Epoch 26/50\n",
            "84/84 [==============================] - 1s 15ms/step - loss: 7.2548e-05 - val_loss: 3.4866e-04\n",
            "Epoch 27/50\n",
            "84/84 [==============================] - 1s 15ms/step - loss: 6.4898e-05 - val_loss: 3.0386e-04\n",
            "Epoch 28/50\n",
            "84/84 [==============================] - 1s 15ms/step - loss: 6.7905e-05 - val_loss: 3.0151e-04\n",
            "Epoch 29/50\n",
            "84/84 [==============================] - 1s 16ms/step - loss: 7.1764e-05 - val_loss: 8.1792e-04\n",
            "Epoch 30/50\n",
            "84/84 [==============================] - 1s 15ms/step - loss: 6.0844e-05 - val_loss: 2.7960e-04\n",
            "Epoch 31/50\n",
            "84/84 [==============================] - 1s 16ms/step - loss: 6.0956e-05 - val_loss: 3.4479e-04\n",
            "Epoch 32/50\n",
            "84/84 [==============================] - 1s 15ms/step - loss: 5.7045e-05 - val_loss: 2.4865e-04\n",
            "Epoch 33/50\n",
            "84/84 [==============================] - 1s 16ms/step - loss: 5.9507e-05 - val_loss: 2.5058e-04\n",
            "Epoch 34/50\n",
            "84/84 [==============================] - 1s 15ms/step - loss: 5.9121e-05 - val_loss: 3.0744e-04\n",
            "Epoch 35/50\n",
            "84/84 [==============================] - 1s 15ms/step - loss: 5.6360e-05 - val_loss: 2.3504e-04\n",
            "Epoch 36/50\n",
            "84/84 [==============================] - 1s 15ms/step - loss: 5.0619e-05 - val_loss: 2.2306e-04\n",
            "Epoch 37/50\n",
            "84/84 [==============================] - 1s 15ms/step - loss: 5.4569e-05 - val_loss: 2.3985e-04\n",
            "Epoch 38/50\n",
            "84/84 [==============================] - 1s 15ms/step - loss: 4.6460e-05 - val_loss: 2.2671e-04\n",
            "Epoch 39/50\n",
            "84/84 [==============================] - 1s 15ms/step - loss: 4.9586e-05 - val_loss: 2.4190e-04\n",
            "Epoch 40/50\n",
            "84/84 [==============================] - 1s 16ms/step - loss: 4.3070e-05 - val_loss: 3.7694e-04\n",
            "Epoch 41/50\n",
            "84/84 [==============================] - 1s 16ms/step - loss: 5.0834e-05 - val_loss: 2.9996e-04\n",
            "Epoch 42/50\n",
            "84/84 [==============================] - 1s 16ms/step - loss: 4.1945e-05 - val_loss: 1.8326e-04\n",
            "Epoch 43/50\n",
            "84/84 [==============================] - 1s 15ms/step - loss: 3.7506e-05 - val_loss: 1.7830e-04\n",
            "Epoch 44/50\n",
            "84/84 [==============================] - 1s 15ms/step - loss: 4.1754e-05 - val_loss: 2.0482e-04\n",
            "Epoch 45/50\n",
            "84/84 [==============================] - 1s 16ms/step - loss: 3.9270e-05 - val_loss: 2.6116e-04\n",
            "Epoch 46/50\n",
            "84/84 [==============================] - 1s 16ms/step - loss: 3.7271e-05 - val_loss: 1.7902e-04\n",
            "Epoch 47/50\n",
            "84/84 [==============================] - 1s 15ms/step - loss: 3.7729e-05 - val_loss: 1.8537e-04\n",
            "Epoch 48/50\n",
            "84/84 [==============================] - 1s 16ms/step - loss: 3.4631e-05 - val_loss: 3.6846e-04\n",
            "Epoch 49/50\n",
            "84/84 [==============================] - 1s 16ms/step - loss: 3.6207e-05 - val_loss: 2.3246e-04\n",
            "Epoch 50/50\n",
            "84/84 [==============================] - 2s 23ms/step - loss: 3.7399e-05 - val_loss: 1.8777e-04\n"
          ]
        },
        {
          "output_type": "execute_result",
          "data": {
            "text/plain": [
              "<keras.callbacks.History at 0x7f613cfdd4d0>"
            ]
          },
          "metadata": {},
          "execution_count": 27
        }
      ]
    },
    {
      "cell_type": "code",
      "source": [
        "from sklearn.model_selection import train_test_split"
      ],
      "metadata": {
        "id": "vstgojFnubI5"
      },
      "execution_count": 28,
      "outputs": []
    },
    {
      "cell_type": "code",
      "source": [
        "import tensorflow as tf\n",
        "train_predict = model.predict(X_train)\n",
        "test_predict = model.predict(X_test)"
      ],
      "metadata": {
        "colab": {
          "base_uri": "https://localhost:8080/"
        },
        "id": "n8U9z6n_v0KB",
        "outputId": "9d06eb2c-9e5d-409a-ade1-9a5b3ecafd3e"
      },
      "execution_count": 29,
      "outputs": [
        {
          "output_type": "stream",
          "name": "stdout",
          "text": [
            "167/167 [==============================] - 2s 4ms/step\n",
            "90/90 [==============================] - 0s 4ms/step\n"
          ]
        }
      ]
    },
    {
      "cell_type": "code",
      "source": [
        "train_predict= scaler.inverse_transform(train_predict)\n",
        "test_predict=  scaler.inverse_transform(test_predict)"
      ],
      "metadata": {
        "id": "P4ye7i793SRm"
      },
      "execution_count": 30,
      "outputs": []
    },
    {
      "cell_type": "code",
      "source": [
        "import math \n",
        "from sklearn.metrics import mean_squared_error\n",
        "math.sqrt(mean_squared_error(y_train,train_predict))"
      ],
      "metadata": {
        "colab": {
          "base_uri": "https://localhost:8080/"
        },
        "id": "z0YZBGt-3j2v",
        "outputId": "986984bc-6477-4ad9-c291-fac204de97c9"
      },
      "execution_count": 31,
      "outputs": [
        {
          "output_type": "execute_result",
          "data": {
            "text/plain": [
              "29.664988895009063"
            ]
          },
          "metadata": {},
          "execution_count": 31
        }
      ]
    },
    {
      "cell_type": "code",
      "source": [
        "math.sqrt(mean_squared_error(ytest,test_predict))"
      ],
      "metadata": {
        "colab": {
          "base_uri": "https://localhost:8080/"
        },
        "id": "059oWUoy4OVf",
        "outputId": "e82079ef-1b4c-41fc-a807-0c78b9a9f5af"
      },
      "execution_count": 32,
      "outputs": [
        {
          "output_type": "execute_result",
          "data": {
            "text/plain": [
              "78.69090633694564"
            ]
          },
          "metadata": {},
          "execution_count": 32
        }
      ]
    },
    {
      "cell_type": "code",
      "source": [
        "from tensorflow.keras.models import load_model\n"
      ],
      "metadata": {
        "id": "C4iuylKv4YR2"
      },
      "execution_count": 33,
      "outputs": []
    },
    {
      "cell_type": "code",
      "source": [
        "model.save(\"crude_oil.h5\")\n",
        "\n",
        "!tar -zcvf crude-oil-prediction.tgz crude_oil.h5"
      ],
      "metadata": {
        "id": "BNCyWfd-4492",
        "colab": {
          "base_uri": "https://localhost:8080/"
        },
        "outputId": "ca7e5118-6bd5-4574-dd1a-03b108c34878"
      },
      "execution_count": 34,
      "outputs": [
        {
          "output_type": "stream",
          "name": "stdout",
          "text": [
            "crude_oil.h5\n"
          ]
        }
      ]
    },
    {
      "cell_type": "markdown",
      "source": [
        "# **IBM Deployment**"
      ],
      "metadata": {
        "id": "UwZC1R8TXg2r"
      }
    },
    {
      "cell_type": "code",
      "source": [
        "!pip install watson-machine-learning-client"
      ],
      "metadata": {
        "colab": {
          "base_uri": "https://localhost:8080/",
          "height": 1000
        },
        "id": "8r12VIl0XqEW",
        "outputId": "f9a046c2-40ee-4f39-bc26-40a6528e273d"
      },
      "execution_count": 35,
      "outputs": [
        {
          "output_type": "stream",
          "name": "stdout",
          "text": [
            "Looking in indexes: https://pypi.org/simple, https://us-python.pkg.dev/colab-wheels/public/simple/\n",
            "Collecting watson-machine-learning-client\n",
            "  Downloading watson_machine_learning_client-1.0.391-py3-none-any.whl (538 kB)\n",
            "\u001b[?25l\r\u001b[K     |▋                               | 10 kB 30.2 MB/s eta 0:00:01\r\u001b[K     |█▏                              | 20 kB 35.1 MB/s eta 0:00:01\r\u001b[K     |█▉                              | 30 kB 42.9 MB/s eta 0:00:01\r\u001b[K     |██▍                             | 40 kB 30.9 MB/s eta 0:00:01\r\u001b[K     |███                             | 51 kB 35.4 MB/s eta 0:00:01\r\u001b[K     |███▋                            | 61 kB 40.2 MB/s eta 0:00:01\r\u001b[K     |████▎                           | 71 kB 30.9 MB/s eta 0:00:01\r\u001b[K     |████▉                           | 81 kB 30.5 MB/s eta 0:00:01\r\u001b[K     |█████▌                          | 92 kB 33.0 MB/s eta 0:00:01\r\u001b[K     |██████                          | 102 kB 34.7 MB/s eta 0:00:01\r\u001b[K     |██████▊                         | 112 kB 34.7 MB/s eta 0:00:01\r\u001b[K     |███████▎                        | 122 kB 34.7 MB/s eta 0:00:01\r\u001b[K     |████████                        | 133 kB 34.7 MB/s eta 0:00:01\r\u001b[K     |████████▌                       | 143 kB 34.7 MB/s eta 0:00:01\r\u001b[K     |█████████▏                      | 153 kB 34.7 MB/s eta 0:00:01\r\u001b[K     |█████████▊                      | 163 kB 34.7 MB/s eta 0:00:01\r\u001b[K     |██████████▍                     | 174 kB 34.7 MB/s eta 0:00:01\r\u001b[K     |███████████                     | 184 kB 34.7 MB/s eta 0:00:01\r\u001b[K     |███████████▌                    | 194 kB 34.7 MB/s eta 0:00:01\r\u001b[K     |████████████▏                   | 204 kB 34.7 MB/s eta 0:00:01\r\u001b[K     |████████████▊                   | 215 kB 34.7 MB/s eta 0:00:01\r\u001b[K     |█████████████▍                  | 225 kB 34.7 MB/s eta 0:00:01\r\u001b[K     |██████████████                  | 235 kB 34.7 MB/s eta 0:00:01\r\u001b[K     |██████████████▋                 | 245 kB 34.7 MB/s eta 0:00:01\r\u001b[K     |███████████████▏                | 256 kB 34.7 MB/s eta 0:00:01\r\u001b[K     |███████████████▉                | 266 kB 34.7 MB/s eta 0:00:01\r\u001b[K     |████████████████▍               | 276 kB 34.7 MB/s eta 0:00:01\r\u001b[K     |█████████████████               | 286 kB 34.7 MB/s eta 0:00:01\r\u001b[K     |█████████████████▋              | 296 kB 34.7 MB/s eta 0:00:01\r\u001b[K     |██████████████████▎             | 307 kB 34.7 MB/s eta 0:00:01\r\u001b[K     |██████████████████▉             | 317 kB 34.7 MB/s eta 0:00:01\r\u001b[K     |███████████████████▌            | 327 kB 34.7 MB/s eta 0:00:01\r\u001b[K     |████████████████████            | 337 kB 34.7 MB/s eta 0:00:01\r\u001b[K     |████████████████████▊           | 348 kB 34.7 MB/s eta 0:00:01\r\u001b[K     |█████████████████████▎          | 358 kB 34.7 MB/s eta 0:00:01\r\u001b[K     |██████████████████████          | 368 kB 34.7 MB/s eta 0:00:01\r\u001b[K     |██████████████████████▌         | 378 kB 34.7 MB/s eta 0:00:01\r\u001b[K     |███████████████████████         | 389 kB 34.7 MB/s eta 0:00:01\r\u001b[K     |███████████████████████▊        | 399 kB 34.7 MB/s eta 0:00:01\r\u001b[K     |████████████████████████▎       | 409 kB 34.7 MB/s eta 0:00:01\r\u001b[K     |█████████████████████████       | 419 kB 34.7 MB/s eta 0:00:01\r\u001b[K     |█████████████████████████▌      | 430 kB 34.7 MB/s eta 0:00:01\r\u001b[K     |██████████████████████████▏     | 440 kB 34.7 MB/s eta 0:00:01\r\u001b[K     |██████████████████████████▊     | 450 kB 34.7 MB/s eta 0:00:01\r\u001b[K     |███████████████████████████▍    | 460 kB 34.7 MB/s eta 0:00:01\r\u001b[K     |████████████████████████████    | 471 kB 34.7 MB/s eta 0:00:01\r\u001b[K     |████████████████████████████▋   | 481 kB 34.7 MB/s eta 0:00:01\r\u001b[K     |█████████████████████████████▏  | 491 kB 34.7 MB/s eta 0:00:01\r\u001b[K     |█████████████████████████████▉  | 501 kB 34.7 MB/s eta 0:00:01\r\u001b[K     |██████████████████████████████▍ | 512 kB 34.7 MB/s eta 0:00:01\r\u001b[K     |███████████████████████████████ | 522 kB 34.7 MB/s eta 0:00:01\r\u001b[K     |███████████████████████████████▋| 532 kB 34.7 MB/s eta 0:00:01\r\u001b[K     |████████████████████████████████| 538 kB 34.7 MB/s \n",
            "\u001b[?25hRequirement already satisfied: certifi in /usr/local/lib/python3.7/dist-packages (from watson-machine-learning-client) (2022.9.24)\n",
            "Collecting boto3\n",
            "  Downloading boto3-1.26.13-py3-none-any.whl (132 kB)\n",
            "\u001b[K     |████████████████████████████████| 132 kB 65.2 MB/s \n",
            "\u001b[?25hCollecting ibm-cos-sdk\n",
            "  Downloading ibm-cos-sdk-2.12.0.tar.gz (55 kB)\n",
            "\u001b[K     |████████████████████████████████| 55 kB 4.6 MB/s \n",
            "\u001b[?25hRequirement already satisfied: requests in /usr/local/lib/python3.7/dist-packages (from watson-machine-learning-client) (2.23.0)\n",
            "Requirement already satisfied: pandas in /usr/local/lib/python3.7/dist-packages (from watson-machine-learning-client) (1.3.5)\n",
            "Requirement already satisfied: urllib3 in /usr/local/lib/python3.7/dist-packages (from watson-machine-learning-client) (1.24.3)\n",
            "Requirement already satisfied: tabulate in /usr/local/lib/python3.7/dist-packages (from watson-machine-learning-client) (0.8.10)\n",
            "Collecting lomond\n",
            "  Downloading lomond-0.3.3-py2.py3-none-any.whl (35 kB)\n",
            "Requirement already satisfied: tqdm in /usr/local/lib/python3.7/dist-packages (from watson-machine-learning-client) (4.64.1)\n",
            "Collecting botocore<1.30.0,>=1.29.13\n",
            "  Downloading botocore-1.29.13-py3-none-any.whl (9.9 MB)\n",
            "\u001b[K     |████████████████████████████████| 9.9 MB 70.4 MB/s \n",
            "\u001b[?25hCollecting s3transfer<0.7.0,>=0.6.0\n",
            "  Downloading s3transfer-0.6.0-py3-none-any.whl (79 kB)\n",
            "\u001b[K     |████████████████████████████████| 79 kB 9.1 MB/s \n",
            "\u001b[?25hCollecting jmespath<2.0.0,>=0.7.1\n",
            "  Downloading jmespath-1.0.1-py3-none-any.whl (20 kB)\n",
            "Collecting urllib3\n",
            "  Downloading urllib3-1.26.12-py2.py3-none-any.whl (140 kB)\n",
            "\u001b[K     |████████████████████████████████| 140 kB 79.7 MB/s \n",
            "\u001b[?25hRequirement already satisfied: python-dateutil<3.0.0,>=2.1 in /usr/local/lib/python3.7/dist-packages (from botocore<1.30.0,>=1.29.13->boto3->watson-machine-learning-client) (2.8.2)\n",
            "Requirement already satisfied: six>=1.5 in /usr/local/lib/python3.7/dist-packages (from python-dateutil<3.0.0,>=2.1->botocore<1.30.0,>=1.29.13->boto3->watson-machine-learning-client) (1.15.0)\n",
            "Collecting ibm-cos-sdk-core==2.12.0\n",
            "  Downloading ibm-cos-sdk-core-2.12.0.tar.gz (956 kB)\n",
            "\u001b[K     |████████████████████████████████| 956 kB 46.6 MB/s \n",
            "\u001b[?25hCollecting ibm-cos-sdk-s3transfer==2.12.0\n",
            "  Downloading ibm-cos-sdk-s3transfer-2.12.0.tar.gz (135 kB)\n",
            "\u001b[K     |████████████████████████████████| 135 kB 90.5 MB/s \n",
            "\u001b[?25hCollecting jmespath<2.0.0,>=0.7.1\n",
            "  Downloading jmespath-0.10.0-py2.py3-none-any.whl (24 kB)\n",
            "Collecting requests\n",
            "  Downloading requests-2.28.1-py3-none-any.whl (62 kB)\n",
            "\u001b[K     |████████████████████████████████| 62 kB 1.7 MB/s \n",
            "\u001b[?25hRequirement already satisfied: charset-normalizer<3,>=2 in /usr/local/lib/python3.7/dist-packages (from requests->watson-machine-learning-client) (2.1.1)\n",
            "Requirement already satisfied: idna<4,>=2.5 in /usr/local/lib/python3.7/dist-packages (from requests->watson-machine-learning-client) (2.10)\n",
            "Requirement already satisfied: numpy>=1.17.3 in /usr/local/lib/python3.7/dist-packages (from pandas->watson-machine-learning-client) (1.21.6)\n",
            "Requirement already satisfied: pytz>=2017.3 in /usr/local/lib/python3.7/dist-packages (from pandas->watson-machine-learning-client) (2022.6)\n",
            "Building wheels for collected packages: ibm-cos-sdk, ibm-cos-sdk-core, ibm-cos-sdk-s3transfer\n",
            "  Building wheel for ibm-cos-sdk (setup.py) ... \u001b[?25l\u001b[?25hdone\n",
            "  Created wheel for ibm-cos-sdk: filename=ibm_cos_sdk-2.12.0-py3-none-any.whl size=73931 sha256=fa2ce9b2d1ef27ad3cc4d1bd4761206412708aa16114c68694de22e6498ba255\n",
            "  Stored in directory: /root/.cache/pip/wheels/ec/94/29/2b57327cf00664b6614304f7958abd29d77ea0e5bbece2ea57\n",
            "  Building wheel for ibm-cos-sdk-core (setup.py) ... \u001b[?25l\u001b[?25hdone\n",
            "  Created wheel for ibm-cos-sdk-core: filename=ibm_cos_sdk_core-2.12.0-py3-none-any.whl size=562962 sha256=6a1efe385785f865ddc2fe405bca8a7a2a2742f742542dc2074fcffa0c2ff81e\n",
            "  Stored in directory: /root/.cache/pip/wheels/64/56/fb/5cd6f4f40406c828a5289b95b2752a4d142a9afb359244ed8d\n",
            "  Building wheel for ibm-cos-sdk-s3transfer (setup.py) ... \u001b[?25l\u001b[?25hdone\n",
            "  Created wheel for ibm-cos-sdk-s3transfer: filename=ibm_cos_sdk_s3transfer-2.12.0-py3-none-any.whl size=89778 sha256=da28ca26317ce48226e913f5a4abbb8a29b762c91a339301e85acb6481f64908\n",
            "  Stored in directory: /root/.cache/pip/wheels/57/79/6a/ffe3370ed7ebc00604f9f76766e1e0348dcdcad2b2e32df9e1\n",
            "Successfully built ibm-cos-sdk ibm-cos-sdk-core ibm-cos-sdk-s3transfer\n",
            "Installing collected packages: urllib3, requests, jmespath, ibm-cos-sdk-core, botocore, s3transfer, ibm-cos-sdk-s3transfer, lomond, ibm-cos-sdk, boto3, watson-machine-learning-client\n",
            "  Attempting uninstall: urllib3\n",
            "    Found existing installation: urllib3 1.24.3\n",
            "    Uninstalling urllib3-1.24.3:\n",
            "      Successfully uninstalled urllib3-1.24.3\n",
            "  Attempting uninstall: requests\n",
            "    Found existing installation: requests 2.23.0\n",
            "    Uninstalling requests-2.23.0:\n",
            "      Successfully uninstalled requests-2.23.0\n",
            "Successfully installed boto3-1.26.13 botocore-1.29.13 ibm-cos-sdk-2.12.0 ibm-cos-sdk-core-2.12.0 ibm-cos-sdk-s3transfer-2.12.0 jmespath-0.10.0 lomond-0.3.3 requests-2.28.1 s3transfer-0.6.0 urllib3-1.26.12 watson-machine-learning-client-1.0.391\n"
          ]
        },
        {
          "output_type": "display_data",
          "data": {
            "application/vnd.colab-display-data+json": {
              "pip_warning": {
                "packages": [
                  "requests",
                  "urllib3"
                ]
              }
            }
          },
          "metadata": {}
        }
      ]
    },
    {
      "cell_type": "code",
      "source": [
        "!pip install ibm_watson_machine_learning"
      ],
      "metadata": {
        "colab": {
          "base_uri": "https://localhost:8080/"
        },
        "id": "Q76PbCwXYWnK",
        "outputId": "ffa72ac8-15c3-4a9f-99d0-ed63cb98a4b6"
      },
      "execution_count": 36,
      "outputs": [
        {
          "output_type": "stream",
          "name": "stdout",
          "text": [
            "Looking in indexes: https://pypi.org/simple, https://us-python.pkg.dev/colab-wheels/public/simple/\n",
            "Collecting ibm_watson_machine_learning\n",
            "  Downloading ibm_watson_machine_learning-1.0.257-py3-none-any.whl (1.8 MB)\n",
            "\u001b[K     |████████████████████████████████| 1.8 MB 29.9 MB/s \n",
            "\u001b[?25hRequirement already satisfied: packaging in /usr/local/lib/python3.7/dist-packages (from ibm_watson_machine_learning) (21.3)\n",
            "Requirement already satisfied: pandas<1.5.0,>=0.24.2 in /usr/local/lib/python3.7/dist-packages (from ibm_watson_machine_learning) (1.3.5)\n",
            "Requirement already satisfied: lomond in /usr/local/lib/python3.7/dist-packages (from ibm_watson_machine_learning) (0.3.3)\n",
            "Requirement already satisfied: tabulate in /usr/local/lib/python3.7/dist-packages (from ibm_watson_machine_learning) (0.8.10)\n",
            "Requirement already satisfied: importlib-metadata in /usr/local/lib/python3.7/dist-packages (from ibm_watson_machine_learning) (4.13.0)\n",
            "Requirement already satisfied: certifi in /usr/local/lib/python3.7/dist-packages (from ibm_watson_machine_learning) (2022.9.24)\n",
            "Collecting ibm-cos-sdk==2.7.*\n",
            "  Downloading ibm-cos-sdk-2.7.0.tar.gz (51 kB)\n",
            "\u001b[K     |████████████████████████████████| 51 kB 652 kB/s \n",
            "\u001b[?25hRequirement already satisfied: requests in /usr/local/lib/python3.7/dist-packages (from ibm_watson_machine_learning) (2.28.1)\n",
            "Requirement already satisfied: urllib3 in /usr/local/lib/python3.7/dist-packages (from ibm_watson_machine_learning) (1.26.12)\n",
            "Collecting ibm-cos-sdk-core==2.7.0\n",
            "  Downloading ibm-cos-sdk-core-2.7.0.tar.gz (824 kB)\n",
            "\u001b[K     |████████████████████████████████| 824 kB 73.4 MB/s \n",
            "\u001b[?25hCollecting ibm-cos-sdk-s3transfer==2.7.0\n",
            "  Downloading ibm-cos-sdk-s3transfer-2.7.0.tar.gz (133 kB)\n",
            "\u001b[K     |████████████████████████████████| 133 kB 77.9 MB/s \n",
            "\u001b[?25hRequirement already satisfied: jmespath<1.0.0,>=0.7.1 in /usr/local/lib/python3.7/dist-packages (from ibm-cos-sdk==2.7.*->ibm_watson_machine_learning) (0.10.0)\n",
            "Collecting docutils<0.16,>=0.10\n",
            "  Downloading docutils-0.15.2-py3-none-any.whl (547 kB)\n",
            "\u001b[K     |████████████████████████████████| 547 kB 66.4 MB/s \n",
            "\u001b[?25hRequirement already satisfied: python-dateutil<3.0.0,>=2.1 in /usr/local/lib/python3.7/dist-packages (from ibm-cos-sdk-core==2.7.0->ibm-cos-sdk==2.7.*->ibm_watson_machine_learning) (2.8.2)\n",
            "Requirement already satisfied: numpy>=1.17.3 in /usr/local/lib/python3.7/dist-packages (from pandas<1.5.0,>=0.24.2->ibm_watson_machine_learning) (1.21.6)\n",
            "Requirement already satisfied: pytz>=2017.3 in /usr/local/lib/python3.7/dist-packages (from pandas<1.5.0,>=0.24.2->ibm_watson_machine_learning) (2022.6)\n",
            "Requirement already satisfied: six>=1.5 in /usr/local/lib/python3.7/dist-packages (from python-dateutil<3.0.0,>=2.1->ibm-cos-sdk-core==2.7.0->ibm-cos-sdk==2.7.*->ibm_watson_machine_learning) (1.15.0)\n",
            "Requirement already satisfied: charset-normalizer<3,>=2 in /usr/local/lib/python3.7/dist-packages (from requests->ibm_watson_machine_learning) (2.1.1)\n",
            "Requirement already satisfied: idna<4,>=2.5 in /usr/local/lib/python3.7/dist-packages (from requests->ibm_watson_machine_learning) (2.10)\n",
            "Requirement already satisfied: zipp>=0.5 in /usr/local/lib/python3.7/dist-packages (from importlib-metadata->ibm_watson_machine_learning) (3.10.0)\n",
            "Requirement already satisfied: typing-extensions>=3.6.4 in /usr/local/lib/python3.7/dist-packages (from importlib-metadata->ibm_watson_machine_learning) (4.1.1)\n",
            "Requirement already satisfied: pyparsing!=3.0.5,>=2.0.2 in /usr/local/lib/python3.7/dist-packages (from packaging->ibm_watson_machine_learning) (3.0.9)\n",
            "Building wheels for collected packages: ibm-cos-sdk, ibm-cos-sdk-core, ibm-cos-sdk-s3transfer\n",
            "  Building wheel for ibm-cos-sdk (setup.py) ... \u001b[?25l\u001b[?25hdone\n",
            "  Created wheel for ibm-cos-sdk: filename=ibm_cos_sdk-2.7.0-py2.py3-none-any.whl size=72563 sha256=27e1f024aea649abae4a6cf8ca0c2f7b717778aab40ebbf31b166d810bee341b\n",
            "  Stored in directory: /root/.cache/pip/wheels/47/22/bf/e1154ff0f5de93cc477acd0ca69abfbb8b799c5b28a66b44c2\n",
            "  Building wheel for ibm-cos-sdk-core (setup.py) ... \u001b[?25l\u001b[?25hdone\n",
            "  Created wheel for ibm-cos-sdk-core: filename=ibm_cos_sdk_core-2.7.0-py2.py3-none-any.whl size=501013 sha256=ba9ab2ac5255fb73eae39fd0ca16476665ea5f34f15c536029c81a5e89173818\n",
            "  Stored in directory: /root/.cache/pip/wheels/6c/a2/e4/c16d02f809a3ea998e17cfd02c13369281f3d232aaf5902c19\n",
            "  Building wheel for ibm-cos-sdk-s3transfer (setup.py) ... \u001b[?25l\u001b[?25hdone\n",
            "  Created wheel for ibm-cos-sdk-s3transfer: filename=ibm_cos_sdk_s3transfer-2.7.0-py2.py3-none-any.whl size=88622 sha256=4e7af1e7a335b17f3e927a098a973c8dbd0e2ce605ca547de1c5fa4567f2f0ad\n",
            "  Stored in directory: /root/.cache/pip/wheels/5f/b7/14/fbe02bc1ef1af890650c7e51743d1c83890852e598d164b9da\n",
            "Successfully built ibm-cos-sdk ibm-cos-sdk-core ibm-cos-sdk-s3transfer\n",
            "Installing collected packages: docutils, ibm-cos-sdk-core, ibm-cos-sdk-s3transfer, ibm-cos-sdk, ibm-watson-machine-learning\n",
            "  Attempting uninstall: docutils\n",
            "    Found existing installation: docutils 0.17.1\n",
            "    Uninstalling docutils-0.17.1:\n",
            "      Successfully uninstalled docutils-0.17.1\n",
            "  Attempting uninstall: ibm-cos-sdk-core\n",
            "    Found existing installation: ibm-cos-sdk-core 2.12.0\n",
            "    Uninstalling ibm-cos-sdk-core-2.12.0:\n",
            "      Successfully uninstalled ibm-cos-sdk-core-2.12.0\n",
            "  Attempting uninstall: ibm-cos-sdk-s3transfer\n",
            "    Found existing installation: ibm-cos-sdk-s3transfer 2.12.0\n",
            "    Uninstalling ibm-cos-sdk-s3transfer-2.12.0:\n",
            "      Successfully uninstalled ibm-cos-sdk-s3transfer-2.12.0\n",
            "  Attempting uninstall: ibm-cos-sdk\n",
            "    Found existing installation: ibm-cos-sdk 2.12.0\n",
            "    Uninstalling ibm-cos-sdk-2.12.0:\n",
            "      Successfully uninstalled ibm-cos-sdk-2.12.0\n",
            "Successfully installed docutils-0.15.2 ibm-cos-sdk-2.7.0 ibm-cos-sdk-core-2.7.0 ibm-cos-sdk-s3transfer-2.7.0 ibm-watson-machine-learning-1.0.257\n"
          ]
        }
      ]
    },
    {
      "cell_type": "code",
      "source": [
        "from ibm_watson_machine_learning import APIClient\n",
        "\n",
        "wml_credentials = {\n",
        "    \"url\":\"https://eu-gb.ml.cloud.ibm.com\",\n",
        "    \"apikey\":\"PtWowCErj2nZ1CdUflx7yjO_B4_hdHEUt0ERh8l3NS7-\"\n",
        "}\n",
        "\n",
        "client = APIClient(wml_credentials)\n",
        "\n"
      ],
      "metadata": {
        "colab": {
          "base_uri": "https://localhost:8080/"
        },
        "id": "PIPlml9zY2k1",
        "outputId": "16a2d647-310e-4a04-d198-412e423be7f4"
      },
      "execution_count": 37,
      "outputs": [
        {
          "output_type": "stream",
          "name": "stdout",
          "text": [
            "Python 3.7 and 3.8 frameworks are deprecated and will be removed in a future release. Use Python 3.9 framework instead.\n"
          ]
        }
      ]
    },
    {
      "cell_type": "code",
      "source": [
        "client"
      ],
      "metadata": {
        "colab": {
          "base_uri": "https://localhost:8080/"
        },
        "id": "UDBfVZyMv1FC",
        "outputId": "b23c1f0e-ea92-4f9a-96e7-c15c77b465fd"
      },
      "execution_count": 38,
      "outputs": [
        {
          "output_type": "execute_result",
          "data": {
            "text/plain": [
              "<ibm_watson_machine_learning.client.APIClient at 0x7f613d05b390>"
            ]
          },
          "metadata": {},
          "execution_count": 38
        }
      ]
    },
    {
      "cell_type": "code",
      "source": [
        "client.spaces.get_details()"
      ],
      "metadata": {
        "colab": {
          "base_uri": "https://localhost:8080/"
        },
        "id": "NXsL1Tf-v7kq",
        "outputId": "fbbd515f-196a-4af9-abb3-c89f93d8033d"
      },
      "execution_count": 39,
      "outputs": [
        {
          "output_type": "execute_result",
          "data": {
            "text/plain": [
              "{'resources': [{'entity': {'compute': [{'crn': 'crn:v1:bluemix:public:pm-20:eu-gb:a/b563ab05d9b4409bb925e2a1a8430f31:4f65d242-0029-49e8-a27c-082e2315a2e0::',\n",
              "      'guid': '4f65d242-0029-49e8-a27c-082e2315a2e0',\n",
              "      'name': 'Watson Machine Learning-yu',\n",
              "      'type': 'machine_learning'}],\n",
              "    'description': '',\n",
              "    'name': 'Ml_Deploy',\n",
              "    'scope': {'bss_account_id': 'b563ab05d9b4409bb925e2a1a8430f31'},\n",
              "    'stage': {'production': False},\n",
              "    'status': {'state': 'active'},\n",
              "    'storage': {'properties': {'bucket_name': 'dec74775-afd0-4a7f-8d2a-657851ab7c56',\n",
              "      'bucket_region': 'eu-gb-standard',\n",
              "      'credentials': {'admin': {'access_key_id': 'cac0c162a64741cc92983fd477356d42',\n",
              "        'api_key': 'XmizSsaMV7W7eS4JgXrmRgIbNt9wrQs1TnbLXdXwv97V',\n",
              "        'secret_access_key': '2df3eb8f45b7191aa6584c6143e923012b6ae51258214240',\n",
              "        'service_id': 'ServiceId-0d519194-bd0b-4d56-9ce6-294094d9b1b3'},\n",
              "       'editor': {'access_key_id': '9536a8c6e9f24790b2be3ba3f43533ef',\n",
              "        'api_key': 'PjPUgXu7P5zWuaJKqU9GgQS7NnjDobmYOS9ib8HV5hd1',\n",
              "        'resource_key_crn': 'crn:v1:bluemix:public:cloud-object-storage:global:a/b563ab05d9b4409bb925e2a1a8430f31:dd1266a4-cb75-48e6-8d76-fcbf211cbaf5::',\n",
              "        'secret_access_key': 'd1a3247296a2d2f08df347108a67b69970de54e2941251fc',\n",
              "        'service_id': 'ServiceId-778ac268-fc3c-419f-b729-abd98ba0963b'},\n",
              "       'viewer': {'access_key_id': 'f9e0923f8bf64db59110e8a350680ffb',\n",
              "        'api_key': '0lRhmqWEm0SQpcw8QMQaLTuPY_rJgbaV90WwZ1bsoDbZ',\n",
              "        'resource_key_crn': 'crn:v1:bluemix:public:cloud-object-storage:global:a/b563ab05d9b4409bb925e2a1a8430f31:dd1266a4-cb75-48e6-8d76-fcbf211cbaf5::',\n",
              "        'secret_access_key': '140782de805fcb8e1939c60f18033d834592973f97fb99a4',\n",
              "        'service_id': 'ServiceId-e7dade39-c7e1-454b-87d7-9960f48e74fb'}},\n",
              "      'endpoint_url': 'https://s3.eu-gb.cloud-object-storage.appdomain.cloud',\n",
              "      'guid': 'dd1266a4-cb75-48e6-8d76-fcbf211cbaf5',\n",
              "      'resource_crn': 'crn:v1:bluemix:public:cloud-object-storage:global:a/b563ab05d9b4409bb925e2a1a8430f31:dd1266a4-cb75-48e6-8d76-fcbf211cbaf5::'},\n",
              "     'type': 'bmcos_object_storage'}},\n",
              "   'metadata': {'created_at': '2022-11-19T06:58:46.560Z',\n",
              "    'creator_id': 'IBMid-666002LDWX',\n",
              "    'id': '81f19fd8-e98c-4597-9ef2-44b565066dde',\n",
              "    'updated_at': '2022-11-19T06:59:00.043Z',\n",
              "    'url': '/v2/spaces/81f19fd8-e98c-4597-9ef2-44b565066dde'}}]}"
            ]
          },
          "metadata": {},
          "execution_count": 39
        }
      ]
    },
    {
      "cell_type": "code",
      "source": [
        "client.spaces.list()"
      ],
      "metadata": {
        "colab": {
          "base_uri": "https://localhost:8080/"
        },
        "id": "zhCQrXplyW_s",
        "outputId": "b38e7bee-61ce-4b94-bdf7-4084c331df8d"
      },
      "execution_count": 40,
      "outputs": [
        {
          "output_type": "stream",
          "name": "stdout",
          "text": [
            "Note: 'limit' is not provided. Only first 50 records will be displayed if the number of records exceed 50\n",
            "------------------------------------  ---------  ------------------------\n",
            "ID                                    NAME       CREATED\n",
            "81f19fd8-e98c-4597-9ef2-44b565066dde  Ml_Deploy  2022-11-19T06:58:46.560Z\n",
            "------------------------------------  ---------  ------------------------\n"
          ]
        }
      ]
    },
    {
      "cell_type": "code",
      "source": [
        "space_uid=\"81f19fd8-e98c-4597-9ef2-44b565066dde\"\n",
        "space_uid"
      ],
      "metadata": {
        "colab": {
          "base_uri": "https://localhost:8080/",
          "height": 36
        },
        "id": "gXI5y5GDyjhL",
        "outputId": "e88e584f-1146-4b72-cb41-884d0ce8157a"
      },
      "execution_count": 41,
      "outputs": [
        {
          "output_type": "execute_result",
          "data": {
            "text/plain": [
              "'81f19fd8-e98c-4597-9ef2-44b565066dde'"
            ],
            "application/vnd.google.colaboratory.intrinsic+json": {
              "type": "string"
            }
          },
          "metadata": {},
          "execution_count": 41
        }
      ]
    },
    {
      "cell_type": "code",
      "source": [
        "client.set.default_space(space_uid)"
      ],
      "metadata": {
        "colab": {
          "base_uri": "https://localhost:8080/",
          "height": 36
        },
        "id": "Zb9RdqHuzBp-",
        "outputId": "f28be8d9-bb1e-4090-a0a3-2e2014c4afe7"
      },
      "execution_count": 42,
      "outputs": [
        {
          "output_type": "execute_result",
          "data": {
            "text/plain": [
              "'SUCCESS'"
            ],
            "application/vnd.google.colaboratory.intrinsic+json": {
              "type": "string"
            }
          },
          "metadata": {},
          "execution_count": 42
        }
      ]
    },
    {
      "cell_type": "code",
      "source": [
        "client.software_specifications.list()"
      ],
      "metadata": {
        "colab": {
          "base_uri": "https://localhost:8080/"
        },
        "id": "02kOWCrEzHda",
        "outputId": "cfe6088a-39d3-47d3-b8fa-c195cd552257"
      },
      "execution_count": 43,
      "outputs": [
        {
          "output_type": "stream",
          "name": "stdout",
          "text": [
            "-----------------------------  ------------------------------------  ----\n",
            "NAME                           ASSET_ID                              TYPE\n",
            "default_py3.6                  0062b8c9-8b7d-44a0-a9b9-46c416adcbd9  base\n",
            "kernel-spark3.2-scala2.12      020d69ce-7ac1-5e68-ac1a-31189867356a  base\n",
            "pytorch-onnx_1.3-py3.7-edt     069ea134-3346-5748-b513-49120e15d288  base\n",
            "scikit-learn_0.20-py3.6        09c5a1d0-9c1e-4473-a344-eb7b665ff687  base\n",
            "spark-mllib_3.0-scala_2.12     09f4cff0-90a7-5899-b9ed-1ef348aebdee  base\n",
            "pytorch-onnx_rt22.1-py3.9      0b848dd4-e681-5599-be41-b5f6fccc6471  base\n",
            "ai-function_0.1-py3.6          0cdb0f1e-5376-4f4d-92dd-da3b69aa9bda  base\n",
            "shiny-r3.6                     0e6e79df-875e-4f24-8ae9-62dcc2148306  base\n",
            "tensorflow_2.4-py3.7-horovod   1092590a-307d-563d-9b62-4eb7d64b3f22  base\n",
            "pytorch_1.1-py3.6              10ac12d6-6b30-4ccd-8392-3e922c096a92  base\n",
            "tensorflow_1.15-py3.6-ddl      111e41b3-de2d-5422-a4d6-bf776828c4b7  base\n",
            "autoai-kb_rt22.2-py3.10        125b6d9a-5b1f-5e8d-972a-b251688ccf40  base\n",
            "runtime-22.1-py3.9             12b83a17-24d8-5082-900f-0ab31fbfd3cb  base\n",
            "scikit-learn_0.22-py3.6        154010fa-5b3b-4ac1-82af-4d5ee5abbc85  base\n",
            "default_r3.6                   1b70aec3-ab34-4b87-8aa0-a4a3c8296a36  base\n",
            "pytorch-onnx_1.3-py3.6         1bc6029a-cc97-56da-b8e0-39c3880dbbe7  base\n",
            "kernel-spark3.3-r3.6           1c9e5454-f216-59dd-a20e-474a5cdf5988  base\n",
            "pytorch-onnx_rt22.1-py3.9-edt  1d362186-7ad5-5b59-8b6c-9d0880bde37f  base\n",
            "tensorflow_2.1-py3.6           1eb25b84-d6ed-5dde-b6a5-3fbdf1665666  base\n",
            "spark-mllib_3.2                20047f72-0a98-58c7-9ff5-a77b012eb8f5  base\n",
            "tensorflow_2.4-py3.8-horovod   217c16f6-178f-56bf-824a-b19f20564c49  base\n",
            "runtime-22.1-py3.9-cuda        26215f05-08c3-5a41-a1b0-da66306ce658  base\n",
            "do_py3.8                       295addb5-9ef9-547e-9bf4-92ae3563e720  base\n",
            "autoai-ts_3.8-py3.8            2aa0c932-798f-5ae9-abd6-15e0c2402fb5  base\n",
            "tensorflow_1.15-py3.6          2b73a275-7cbf-420b-a912-eae7f436e0bc  base\n",
            "kernel-spark3.3-py3.9          2b7961e2-e3b1-5a8c-a491-482c8368839a  base\n",
            "pytorch_1.2-py3.6              2c8ef57d-2687-4b7d-acce-01f94976dac1  base\n",
            "spark-mllib_2.3                2e51f700-bca0-4b0d-88dc-5c6791338875  base\n",
            "pytorch-onnx_1.1-py3.6-edt     32983cea-3f32-4400-8965-dde874a8d67e  base\n",
            "spark-mllib_3.0-py37           36507ebe-8770-55ba-ab2a-eafe787600e9  base\n",
            "spark-mllib_2.4                390d21f8-e58b-4fac-9c55-d7ceda621326  base\n",
            "autoai-ts_rt22.2-py3.10        396b2e83-0953-5b86-9a55-7ce1628a406f  base\n",
            "xgboost_0.82-py3.6             39e31acd-5f30-41dc-ae44-60233c80306e  base\n",
            "pytorch-onnx_1.2-py3.6-edt     40589d0e-7019-4e28-8daa-fb03b6f4fe12  base\n",
            "pytorch-onnx_rt22.2-py3.10     40e73f55-783a-5535-b3fa-0c8b94291431  base\n",
            "default_r36py38                41c247d3-45f8-5a71-b065-8580229facf0  base\n",
            "autoai-ts_rt22.1-py3.9         4269d26e-07ba-5d40-8f66-2d495b0c71f7  base\n",
            "autoai-obm_3.0                 42b92e18-d9ab-567f-988a-4240ba1ed5f7  base\n",
            "pmml-3.0_4.3                   493bcb95-16f1-5bc5-bee8-81b8af80e9c7  base\n",
            "spark-mllib_2.4-r_3.6          49403dff-92e9-4c87-a3d7-a42d0021c095  base\n",
            "xgboost_0.90-py3.6             4ff8d6c2-1343-4c18-85e1-689c965304d3  base\n",
            "pytorch-onnx_1.1-py3.6         50f95b2a-bc16-43bb-bc94-b0bed208c60b  base\n",
            "autoai-ts_3.9-py3.8            52c57136-80fa-572e-8728-a5e7cbb42cde  base\n",
            "spark-mllib_2.4-scala_2.11     55a70f99-7320-4be5-9fb9-9edb5a443af5  base\n",
            "spark-mllib_3.0                5c1b0ca2-4977-5c2e-9439-ffd44ea8ffe9  base\n",
            "autoai-obm_2.0                 5c2e37fa-80b8-5e77-840f-d912469614ee  base\n",
            "spss-modeler_18.1              5c3cad7e-507f-4b2a-a9a3-ab53a21dee8b  base\n",
            "cuda-py3.8                     5d3232bf-c86b-5df4-a2cd-7bb870a1cd4e  base\n",
            "runtime-22.2-py3.10-xc         5e8cddff-db4a-5a6a-b8aa-2d4af9864dab  base\n",
            "autoai-kb_3.1-py3.7            632d4b22-10aa-5180-88f0-f52dfb6444d7  base\n",
            "-----------------------------  ------------------------------------  ----\n",
            "Note: Only first 50 records were displayed. To display more use 'limit' parameter.\n"
          ]
        }
      ]
    },
    {
      "cell_type": "code",
      "source": [
        "software_space_uid = client.software_specifications.get_uid_by_name(\"tensorflow_rt22.1-py3.9\")\n",
        "software_space_uid"
      ],
      "metadata": {
        "colab": {
          "base_uri": "https://localhost:8080/",
          "height": 36
        },
        "id": "9ufNgoeDzaGt",
        "outputId": "c168b05e-ef4c-4deb-c6e8-b25aa956700f"
      },
      "execution_count": 44,
      "outputs": [
        {
          "output_type": "execute_result",
          "data": {
            "text/plain": [
              "'acd9c798-6974-5d2f-a657-ce06e986df4d'"
            ],
            "application/vnd.google.colaboratory.intrinsic+json": {
              "type": "string"
            }
          },
          "metadata": {},
          "execution_count": 44
        }
      ]
    },
    {
      "cell_type": "code",
      "source": [
        "model_details = client.repository.store_model(model=\"crude-oil-prediction.tgz\", meta_props={\n",
        "    client.repository.ModelMetaNames.NAME:\"ML Model\",\n",
        "    client.repository.ModelMetaNames.TYPE:\"tensorflow_2.7\",\n",
        "    client.repository.ModelMetaNames.SOFTWARE_SPEC_UID:software_space_uid\n",
        "})"
      ],
      "metadata": {
        "id": "8xDTd8ar0aeu"
      },
      "execution_count": 45,
      "outputs": []
    },
    {
      "cell_type": "code",
      "source": [
        "model_details"
      ],
      "metadata": {
        "colab": {
          "base_uri": "https://localhost:8080/"
        },
        "id": "N02DrLxk0Tei",
        "outputId": "d28d8431-b61d-4659-940e-5c05d1aa7c68"
      },
      "execution_count": 46,
      "outputs": [
        {
          "output_type": "execute_result",
          "data": {
            "text/plain": [
              "{'entity': {'hybrid_pipeline_software_specs': [],\n",
              "  'software_spec': {'id': 'acd9c798-6974-5d2f-a657-ce06e986df4d',\n",
              "   'name': 'tensorflow_rt22.1-py3.9'},\n",
              "  'type': 'tensorflow_2.7'},\n",
              " 'metadata': {'created_at': '2022-11-19T07:40:42.956Z',\n",
              "  'id': 'd80bc753-7b7a-4257-bd0a-8bd5f23d0065',\n",
              "  'modified_at': '2022-11-19T07:40:46.485Z',\n",
              "  'name': 'ML Model',\n",
              "  'owner': 'IBMid-666002LDWX',\n",
              "  'resource_key': 'a14c076f-5c61-43b7-91e7-c75ca4b667a7',\n",
              "  'space_id': '81f19fd8-e98c-4597-9ef2-44b565066dde'},\n",
              " 'system': {'warnings': []}}"
            ]
          },
          "metadata": {},
          "execution_count": 46
        }
      ]
    },
    {
      "cell_type": "code",
      "source": [
        "model_id = client.repository.get_model_id(model_details)\n",
        "model_id"
      ],
      "metadata": {
        "colab": {
          "base_uri": "https://localhost:8080/",
          "height": 36
        },
        "id": "vTFH4tP4147p",
        "outputId": "f82b1dd1-2029-4d30-d05f-5cd165813177"
      },
      "execution_count": 47,
      "outputs": [
        {
          "output_type": "execute_result",
          "data": {
            "text/plain": [
              "'d80bc753-7b7a-4257-bd0a-8bd5f23d0065'"
            ],
            "application/vnd.google.colaboratory.intrinsic+json": {
              "type": "string"
            }
          },
          "metadata": {},
          "execution_count": 47
        }
      ]
    },
    {
      "cell_type": "code",
      "source": [
        "client.repository.download(model_id,'Crude_Oil_IBM_Model.tgz')"
      ],
      "metadata": {
        "colab": {
          "base_uri": "https://localhost:8080/",
          "height": 55
        },
        "id": "8WirO7qT18St",
        "outputId": "d546896b-5059-44bc-84c6-d8095fb353e9"
      },
      "execution_count": 48,
      "outputs": [
        {
          "output_type": "stream",
          "name": "stdout",
          "text": [
            "Successfully saved model content to file: 'Crude_Oil_IBM_Model.tgz'\n"
          ]
        },
        {
          "output_type": "execute_result",
          "data": {
            "text/plain": [
              "'/content/Crude_Oil_IBM_Model.tgz'"
            ],
            "application/vnd.google.colaboratory.intrinsic+json": {
              "type": "string"
            }
          },
          "metadata": {},
          "execution_count": 48
        }
      ]
    },
    {
      "cell_type": "code",
      "source": [
        "look_back=10\n",
        "trainPredictPlot = np.empty_like(Data_oil)\n",
        "trainPredictPlot[:, :]=np.nan\n",
        "trainPredictPlot[look_back:len(train_predict)+look_back,:]= train_predict\n",
        "testPredictPlot = np.empty_like(Data_oil)\n",
        "testPredictPlot[:, :]=np.nan\n",
        "testPredictPlot[len(train_predict)+(look_back*2)+1:len(Data_oil)-1, :]= test_predict\n",
        "plt.plot(scaler.inverse_transform(Data_oil))\n",
        "plt.plot(trainPredictPlot,label=\"traindata\")\n",
        "plt.plot(testPredictPlot,label=\"testdata\")\n",
        "plt.show()\n",
        "print(\"Green indicates predicated data\")\n",
        "print(\"Blue indicates complete data\")\n",
        "print(\"Orange indicates train data\")"
      ],
      "metadata": {
        "colab": {
          "base_uri": "https://localhost:8080/",
          "height": 320
        },
        "id": "1AR0u1bH46ge",
        "outputId": "7d1fdc3d-d6c7-46f5-f536-27292c8c6e3c"
      },
      "execution_count": 49,
      "outputs": [
        {
          "output_type": "display_data",
          "data": {
            "text/plain": [
              "<Figure size 432x288 with 1 Axes>"
            ],
            "image/png": "[encoded data removed]"
          },
          "metadata": {
            "needs_background": "light"
          }
        },
        {
          "output_type": "stream",
          "name": "stdout",
          "text": [
            "Green indicates predicated data\n",
            "Blue indicates complete data\n",
            "Orange indicates train data\n"
          ]
        }
      ]
    },
    {
      "cell_type": "code",
      "source": [
        "len(test_Data)"
      ],
      "metadata": {
        "colab": {
          "base_uri": "https://localhost:8080/"
        },
        "id": "mZajGQiY5fYM",
        "outputId": "c2767f0f-b838-4309-b1e2-582933e2b7a3"
      },
      "execution_count": 50,
      "outputs": [
        {
          "output_type": "execute_result",
          "data": {
            "text/plain": [
              "2876"
            ]
          },
          "metadata": {},
          "execution_count": 50
        }
      ]
    },
    {
      "cell_type": "code",
      "source": [
        "X_input=test_Data[2866:].reshape(1,-1)\n",
        "X_input.shape"
      ],
      "metadata": {
        "colab": {
          "base_uri": "https://localhost:8080/"
        },
        "id": "bTexKban5l5S",
        "outputId": "b35df762-8f18-4e47-91fc-6325638f0dce"
      },
      "execution_count": 51,
      "outputs": [
        {
          "output_type": "execute_result",
          "data": {
            "text/plain": [
              "(1, 10)"
            ]
          },
          "metadata": {},
          "execution_count": 51
        }
      ]
    },
    {
      "cell_type": "code",
      "source": [
        "temp_input=list(X_input)\n",
        "temp_input=temp_input[0].tolist()"
      ],
      "metadata": {
        "id": "ZpzKtAxX5shW"
      },
      "execution_count": 52,
      "outputs": []
    },
    {
      "cell_type": "code",
      "source": [
        "temp_input"
      ],
      "metadata": {
        "colab": {
          "base_uri": "https://localhost:8080/"
        },
        "id": "kUUL4nNZ5wPX",
        "outputId": "5767536f-804f-4c0f-9e9f-2e190266016a"
      },
      "execution_count": 53,
      "outputs": [
        {
          "output_type": "execute_result",
          "data": {
            "text/plain": [
              "[0.44172960165852215,\n",
              " 0.48111950244335855,\n",
              " 0.49726047682511476,\n",
              " 0.4679401747371539,\n",
              " 0.4729749740855915,\n",
              " 0.47119798608026064,\n",
              " 0.47341922108692425,\n",
              " 0.4649785280616022,\n",
              " 0.4703835332444839,\n",
              " 0.47149415074781587]"
            ]
          },
          "metadata": {},
          "execution_count": 53
        }
      ]
    },
    {
      "cell_type": "code",
      "source": [
        "lst_output=[]\n",
        "n_steps=10\n",
        "i=0\n",
        "while(i<10):\n",
        "  if(len(temp_input)>10):\n",
        "    X_input=np.array(temp_input[1:])\n",
        "    print(\"{} Day input {}\".format(i,X_input))\n",
        "    X_input=X_input.reshape(1,-1)\n",
        "    X_input=X_input.reshape((1,n_steps,1))   \n",
        "    yhat=model.predict(X_input, verbose=0)\n",
        "    print(\"{} Day output {}\".format(i,yhat))\n",
        "    temp_input.extend(yhat[0].tolist())\n",
        "    temp_input=temp_input[1:]\n",
        "    lst_output.extend(yhat.tolist())\n",
        "    i=i+1\n",
        "  else:\n",
        "    X_input=X_input.reshape((1,n_steps,1))\n",
        "    yhat=model.predict(X_input, verbose=0)\n",
        "    print(yhat[0])\n",
        "    temp_input.extend(yhat[0].tolist())\n",
        "    print(len(temp_input))\n",
        "    lst_output.extend(yhat.tolist())\n",
        "    i=i+1"
      ],
      "metadata": {
        "colab": {
          "base_uri": "https://localhost:8080/"
        },
        "id": "SwQdIJAG54rE",
        "outputId": "abe97a18-88fa-4fe3-b53c-0784a9efdd8c"
      },
      "execution_count": 54,
      "outputs": [
        {
          "output_type": "stream",
          "name": "stdout",
          "text": [
            "[0.47460264]\n",
            "11\n",
            "1 Day input [0.4811195  0.49726048 0.46794017 0.47297497 0.47119799 0.47341922\n",
            " 0.46497853 0.47038353 0.47149415 0.47460264]\n",
            "1 Day output [[0.47823492]]\n",
            "2 Day input [0.49726048 0.46794017 0.47297497 0.47119799 0.47341922 0.46497853\n",
            " 0.47038353 0.47149415 0.47460264 0.47823492]\n",
            "2 Day output [[0.4815359]]\n",
            "3 Day input [0.46794017 0.47297497 0.47119799 0.47341922 0.46497853 0.47038353\n",
            " 0.47149415 0.47460264 0.47823492 0.48153591]\n",
            "3 Day output [[0.4841711]]\n",
            "4 Day input [0.47297497 0.47119799 0.47341922 0.46497853 0.47038353 0.47149415\n",
            " 0.47460264 0.47823492 0.48153591 0.48417109]\n",
            "4 Day output [[0.4863952]]\n",
            "5 Day input [0.47119799 0.47341922 0.46497853 0.47038353 0.47149415 0.47460264\n",
            " 0.47823492 0.48153591 0.48417109 0.48639521]\n",
            "5 Day output [[0.48804268]]\n",
            "6 Day input [0.47341922 0.46497853 0.47038353 0.47149415 0.47460264 0.47823492\n",
            " 0.48153591 0.48417109 0.48639521 0.48804268]\n",
            "6 Day output [[0.48928952]]\n",
            "7 Day input [0.46497853 0.47038353 0.47149415 0.47460264 0.47823492 0.48153591\n",
            " 0.48417109 0.48639521 0.48804268 0.48928952]\n",
            "7 Day output [[0.49025986]]\n",
            "8 Day input [0.47038353 0.47149415 0.47460264 0.47823492 0.48153591 0.48417109\n",
            " 0.48639521 0.48804268 0.48928952 0.49025986]\n",
            "8 Day output [[0.49123797]]\n",
            "9 Day input [0.47149415 0.47460264 0.47823492 0.48153591 0.48417109 0.48639521\n",
            " 0.48804268 0.48928952 0.49025986 0.49123797]\n",
            "9 Day output [[0.49227157]]\n"
          ]
        }
      ]
    },
    {
      "cell_type": "code",
      "source": [
        "day_new=np.arange(1,11)\n",
        "day_pred=np.arange(11,21)"
      ],
      "metadata": {
        "id": "YyM6ZHl15-0c"
      },
      "execution_count": 55,
      "outputs": []
    },
    {
      "cell_type": "code",
      "source": [
        "len(Data_oil)"
      ],
      "metadata": {
        "colab": {
          "base_uri": "https://localhost:8080/"
        },
        "id": "v0otGpq26PT1",
        "outputId": "d499b8a3-aabb-4c33-edc5-6ab46d93a07f"
      },
      "execution_count": 56,
      "outputs": [
        {
          "output_type": "execute_result",
          "data": {
            "text/plain": [
              "8216"
            ]
          },
          "metadata": {},
          "execution_count": 56
        }
      ]
    },
    {
      "cell_type": "code",
      "source": [
        "plt.plot(day_new,scaler.inverse_transform(Data_oil[8206:]))\n",
        "plt.plot(day_pred,scaler.inverse_transform(lst_output))"
      ],
      "metadata": {
        "colab": {
          "base_uri": "https://localhost:8080/",
          "height": 283
        },
        "id": "OsFRudL86T7d",
        "outputId": "bf46d9dc-ab4b-4b22-bca5-22722a3fa9a9"
      },
      "execution_count": 57,
      "outputs": [
        {
          "output_type": "execute_result",
          "data": {
            "text/plain": [
              "[<matplotlib.lines.Line2D at 0x7f60c1e2a750>]"
            ]
          },
          "metadata": {},
          "execution_count": 57
        },
        {
          "output_type": "display_data",
          "data": {
            "text/plain": [
              "<Figure size 432x288 with 1 Axes>"
            ],
            "image/png": "[encoded data removed]"
          },
          "metadata": {
            "needs_background": "light"
          }
        }
      ]
    },
    {
      "cell_type": "code",
      "source": [
        "df3=Data_oil.tolist()\n",
        "df3.extend(lst_output)\n",
        "plt.plot(df3[8100:])"
      ],
      "metadata": {
        "colab": {
          "base_uri": "https://localhost:8080/",
          "height": 283
        },
        "id": "T6ehTMzR67Ll",
        "outputId": "dfb0c288-114b-444f-9015-8f48b9ceae22"
      },
      "execution_count": 58,
      "outputs": [
        {
          "output_type": "execute_result",
          "data": {
            "text/plain": [
              "[<matplotlib.lines.Line2D at 0x7f619b56afd0>]"
            ]
          },
          "metadata": {},
          "execution_count": 58
        },
        {
          "output_type": "display_data",
          "data": {
            "text/plain": [
              "<Figure size 432x288 with 1 Axes>"
            ],
            "image/png": "[encoded data removed]"
          },
          "metadata": {
            "needs_background": "light"
          }
        }
      ]
    },
    {
      "cell_type": "code",
      "source": [
        "df3=scaler.inverse_transform(df3).tolist()\n",
        "plt.plot(df3)"
      ],
      "metadata": {
        "colab": {
          "base_uri": "https://localhost:8080/",
          "height": 283
        },
        "id": "evvYIHA87EZl",
        "outputId": "eaf727ac-dafe-444e-a40c-71280e2f9ef7"
      },
      "execution_count": 59,
      "outputs": [
        {
          "output_type": "execute_result",
          "data": {
            "text/plain": [
              "[<matplotlib.lines.Line2D at 0x7f60c184f850>]"
            ]
          },
          "metadata": {},
          "execution_count": 59
        },
        {
          "output_type": "display_data",
          "data": {
            "text/plain": [
              "<Figure size 432x288 with 1 Axes>"
            ],
            "image/png": "[encoded data removed]"
          },
          "metadata": {
            "needs_background": "light"
          }
        }
      ]
    }
  ]
}